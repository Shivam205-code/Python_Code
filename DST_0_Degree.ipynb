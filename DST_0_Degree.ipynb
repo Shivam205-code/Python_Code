{
  "nbformat": 4,
  "nbformat_minor": 0,
  "metadata": {
    "colab": {
      "name": "DST_0_Degree.ipynb",
      "provenance": [],
      "collapsed_sections": []
    },
    "kernelspec": {
      "name": "python3",
      "display_name": "Python 3"
    },
    "language_info": {
      "name": "python"
    }
  },
  "cells": [
    {
      "cell_type": "markdown",
      "metadata": {
        "id": "hlnau9IuG--l"
      },
      "source": [
        "**Importing Python Libraries**"
      ]
    },
    {
      "cell_type": "code",
      "metadata": {
        "id": "fQCx6r43P0D4"
      },
      "source": [
        "import numpy as np\n",
        "from scipy import signal\n",
        "import pandas as pd\n",
        "import matplotlib.pyplot as plt\n",
        "import random as rn\n",
        "import math"
      ],
      "execution_count": 1,
      "outputs": []
    },
    {
      "cell_type": "markdown",
      "metadata": {
        "id": "AEo9v_rKHYCV"
      },
      "source": [
        "**Data Importing**"
      ]
    },
    {
      "cell_type": "code",
      "metadata": {
        "colab": {
          "base_uri": "https://localhost:8080/",
          "height": 206
        },
        "id": "GATpeR3PP7TS",
        "outputId": "4546a465-9813-49ae-c0c5-408aaa7a7561"
      },
      "source": [
        "df = pd.read_csv('DST0.csv')\n",
        "df.head()"
      ],
      "execution_count": 3,
      "outputs": [
        {
          "output_type": "execute_result",
          "data": {
            "text/html": [
              "<div>\n",
              "<style scoped>\n",
              "    .dataframe tbody tr th:only-of-type {\n",
              "        vertical-align: middle;\n",
              "    }\n",
              "\n",
              "    .dataframe tbody tr th {\n",
              "        vertical-align: top;\n",
              "    }\n",
              "\n",
              "    .dataframe thead th {\n",
              "        text-align: right;\n",
              "    }\n",
              "</style>\n",
              "<table border=\"1\" class=\"dataframe\">\n",
              "  <thead>\n",
              "    <tr style=\"text-align: right;\">\n",
              "      <th></th>\n",
              "      <th>Current(A)</th>\n",
              "      <th>Voltage(V)</th>\n",
              "      <th>Charge_Capacity(Ah)</th>\n",
              "      <th>Discharge_Capacity(Ah)</th>\n",
              "      <th>A</th>\n",
              "      <th>SOC</th>\n",
              "      <th>SOC%</th>\n",
              "    </tr>\n",
              "  </thead>\n",
              "  <tbody>\n",
              "    <tr>\n",
              "      <th>0</th>\n",
              "      <td>0.000000</td>\n",
              "      <td>4.154059</td>\n",
              "      <td>0.000000e+00</td>\n",
              "      <td>0.0</td>\n",
              "      <td>0.0</td>\n",
              "      <td>1.0</td>\n",
              "      <td>100.0</td>\n",
              "    </tr>\n",
              "    <tr>\n",
              "      <th>1</th>\n",
              "      <td>0.999353</td>\n",
              "      <td>4.247043</td>\n",
              "      <td>7.054610e-10</td>\n",
              "      <td>0.0</td>\n",
              "      <td>0.0</td>\n",
              "      <td>1.0</td>\n",
              "      <td>100.0</td>\n",
              "    </tr>\n",
              "    <tr>\n",
              "      <th>2</th>\n",
              "      <td>0.339846</td>\n",
              "      <td>4.199741</td>\n",
              "      <td>9.933060e-04</td>\n",
              "      <td>0.0</td>\n",
              "      <td>0.0</td>\n",
              "      <td>1.0</td>\n",
              "      <td>100.0</td>\n",
              "    </tr>\n",
              "    <tr>\n",
              "      <th>3</th>\n",
              "      <td>0.317353</td>\n",
              "      <td>4.199903</td>\n",
              "      <td>1.905517e-03</td>\n",
              "      <td>0.0</td>\n",
              "      <td>0.0</td>\n",
              "      <td>1.0</td>\n",
              "      <td>100.0</td>\n",
              "    </tr>\n",
              "    <tr>\n",
              "      <th>4</th>\n",
              "      <td>0.300798</td>\n",
              "      <td>4.199903</td>\n",
              "      <td>2.764220e-03</td>\n",
              "      <td>0.0</td>\n",
              "      <td>0.0</td>\n",
              "      <td>1.0</td>\n",
              "      <td>100.0</td>\n",
              "    </tr>\n",
              "  </tbody>\n",
              "</table>\n",
              "</div>"
            ],
            "text/plain": [
              "   Current(A)  Voltage(V)  Charge_Capacity(Ah)  ...    A  SOC   SOC%\n",
              "0    0.000000    4.154059         0.000000e+00  ...  0.0  1.0  100.0\n",
              "1    0.999353    4.247043         7.054610e-10  ...  0.0  1.0  100.0\n",
              "2    0.339846    4.199741         9.933060e-04  ...  0.0  1.0  100.0\n",
              "3    0.317353    4.199903         1.905517e-03  ...  0.0  1.0  100.0\n",
              "4    0.300798    4.199903         2.764220e-03  ...  0.0  1.0  100.0\n",
              "\n",
              "[5 rows x 7 columns]"
            ]
          },
          "metadata": {},
          "execution_count": 3
        }
      ]
    },
    {
      "cell_type": "code",
      "metadata": {
        "colab": {
          "base_uri": "https://localhost:8080/"
        },
        "id": "cdJQNoFFQOJL",
        "outputId": "ff6858db-4472-4c60-df0d-02e17de8c1bc"
      },
      "source": [
        "X =df.drop(['Charge_Capacity(Ah)','Discharge_Capacity(Ah)', 'A', 'SOC', 'SOC%'], axis=1)\n",
        "X = X.dropna()\n",
        "print(X)"
      ],
      "execution_count": 4,
      "outputs": [
        {
          "output_type": "stream",
          "name": "stdout",
          "text": [
            "      Current(A)  Voltage(V)\n",
            "0       0.000000    4.154059\n",
            "1       0.999353    4.247043\n",
            "2       0.339846    4.199741\n",
            "3       0.317353    4.199903\n",
            "4       0.300798    4.199903\n",
            "...          ...         ...\n",
            "7195   -0.000074    3.577693\n",
            "7196   -0.000254    3.577855\n",
            "7197   -0.000254    3.577855\n",
            "7198   -0.000254    3.578179\n",
            "7199   -0.000434    3.578017\n",
            "\n",
            "[7200 rows x 2 columns]\n"
          ]
        }
      ]
    },
    {
      "cell_type": "markdown",
      "metadata": {
        "id": "rm7D3YkHHhUq"
      },
      "source": [
        "**Moving Average Filter for Input Quantities**"
      ]
    },
    {
      "cell_type": "code",
      "metadata": {
        "colab": {
          "base_uri": "https://localhost:8080/"
        },
        "id": "PrLVWs5mR2_L",
        "outputId": "ea6670e4-374b-4815-ac6c-08db392ca795"
      },
      "source": [
        "L=7200 #L-point filter\n",
        "b = (np.ones(L))/L #numerator co-effs of filter transfer function\n",
        "a = 1  #denominator co-effs of filter transfer function\n",
        "Xf = signal.lfilter(b,a,X) #filter output using lfilter function\n",
        "print(Xf)"
      ],
      "execution_count": 5,
      "outputs": [
        {
          "output_type": "stream",
          "name": "stdout",
          "text": [
            "[[ 0.00000000e+00  5.76952696e-04]\n",
            " [ 1.38799060e-04  7.28666095e-04]\n",
            " [ 4.72008768e-05  6.30498222e-04]\n",
            " ...\n",
            " [-3.52962500e-08  4.96889058e-04]\n",
            " [-3.52962500e-08  4.96934026e-04]\n",
            " [-6.02890278e-08  4.96886549e-04]]\n"
          ]
        }
      ]
    },
    {
      "cell_type": "code",
      "metadata": {
        "colab": {
          "base_uri": "https://localhost:8080/",
          "height": 542
        },
        "id": "iW-ecsOOSDQr",
        "outputId": "48800278-55af-414a-e904-d93d03fa1c92"
      },
      "source": [
        "Xf1 = pd.DataFrame(Xf)\n",
        "print(Xf1)\n",
        "plt.plot(Xf1)"
      ],
      "execution_count": 6,
      "outputs": [
        {
          "output_type": "stream",
          "name": "stdout",
          "text": [
            "                 0         1\n",
            "0     0.000000e+00  0.000577\n",
            "1     1.387991e-04  0.000729\n",
            "2     4.720088e-05  0.000630\n",
            "3     4.407679e-05  0.000627\n",
            "4     4.177746e-05  0.000625\n",
            "...            ...       ...\n",
            "7195 -1.030361e-08  0.000497\n",
            "7196 -3.529625e-08  0.000497\n",
            "7197 -3.529625e-08  0.000497\n",
            "7198 -3.529625e-08  0.000497\n",
            "7199 -6.028903e-08  0.000497\n",
            "\n",
            "[7200 rows x 2 columns]\n"
          ]
        },
        {
          "output_type": "execute_result",
          "data": {
            "text/plain": [
              "[<matplotlib.lines.Line2D at 0x7fa857264110>,\n",
              " <matplotlib.lines.Line2D at 0x7fa85721d2d0>]"
            ]
          },
          "metadata": {},
          "execution_count": 6
        },
        {
          "output_type": "display_data",
          "data": {
            "image/png": "[encoded data removed]",
            "text/plain": [
              "<Figure size 432x288 with 1 Axes>"
            ]
          },
          "metadata": {
            "needs_background": "light"
          }
        }
      ]
    },
    {
      "cell_type": "markdown",
      "metadata": {
        "id": "KlC2_e1JH1Wk"
      },
      "source": [
        "**Data Normalization**"
      ]
    },
    {
      "cell_type": "code",
      "metadata": {
        "colab": {
          "base_uri": "https://localhost:8080/",
          "height": 542
        },
        "id": "KN02oYQFvTae",
        "outputId": "06d11e7f-86cd-4c00-9442-e982acb02ac3"
      },
      "source": [
        "df_min_max_scaled = Xf1.copy()  \n",
        "# apply normalization techniques\n",
        "for column in df_min_max_scaled.columns:\n",
        "    df_min_max_scaled[column] = -1 + 2*(df_min_max_scaled[column] - df_min_max_scaled[column].min()) / (df_min_max_scaled[column].max() - df_min_max_scaled[column].min())    \n",
        "    Xn = df_min_max_scaled.copy()\n",
        "# view normalized data\n",
        "print(Xn)\n",
        "plt.plot(Xn)"
      ],
      "execution_count": 7,
      "outputs": [
        {
          "output_type": "stream",
          "name": "stdout",
          "text": [
            "             0         1\n",
            "0     0.333458  0.438045\n",
            "1     0.666567  0.750795\n",
            "2     0.446737  0.548427\n",
            "3     0.439239  0.542033\n",
            "4     0.433721  0.537293\n",
            "...        ...       ...\n",
            "7195  0.333433  0.273003\n",
            "7196  0.333373  0.272998\n",
            "7197  0.333373  0.272998\n",
            "7198  0.333373  0.273090\n",
            "7199  0.333313  0.272993\n",
            "\n",
            "[7200 rows x 2 columns]\n"
          ]
        },
        {
          "output_type": "execute_result",
          "data": {
            "text/plain": [
              "[<matplotlib.lines.Line2D at 0x7fa856d06910>,\n",
              " <matplotlib.lines.Line2D at 0x7fa856d06b10>]"
            ]
          },
          "metadata": {},
          "execution_count": 7
        },
        {
          "output_type": "display_data",
          "data": {
            "image/png": "[encoded data removed]",
            "text/plain": [
              "<Figure size 432x288 with 1 Axes>"
            ]
          },
          "metadata": {
            "needs_background": "light"
          }
        }
      ]
    },
    {
      "cell_type": "code",
      "metadata": {
        "colab": {
          "base_uri": "https://localhost:8080/"
        },
        "id": "fmKBtCVpvcDV",
        "outputId": "c981de23-8158-4d0a-d14c-36ef773ff8bb"
      },
      "source": [
        "Y =df.drop(['Current(A)','Voltage(V)','Charge_Capacity(Ah)','Discharge_Capacity(Ah)','A','SOC%'], axis=1)\n",
        "Y = Y.dropna()\n",
        "print(Y)"
      ],
      "execution_count": 8,
      "outputs": [
        {
          "output_type": "stream",
          "name": "stdout",
          "text": [
            "               SOC\n",
            "0     1.000000e+00\n",
            "1     1.000000e+00\n",
            "2     1.000000e+00\n",
            "3     1.000000e+00\n",
            "4     1.000000e+00\n",
            "...            ...\n",
            "7195 -1.862790e-07\n",
            "7196 -2.247090e-07\n",
            "7197 -2.635090e-07\n",
            "7198 -3.103430e-07\n",
            "7199 -3.318710e-07\n",
            "\n",
            "[7200 rows x 1 columns]\n"
          ]
        }
      ]
    },
    {
      "cell_type": "markdown",
      "metadata": {
        "id": "7Pi2HXD7H_hD"
      },
      "source": [
        "**Dataset Splitting into Training and Testing Data**"
      ]
    },
    {
      "cell_type": "code",
      "metadata": {
        "colab": {
          "base_uri": "https://localhost:8080/"
        },
        "id": "ktdISzP9vejf",
        "outputId": "549d8d3c-fb4e-4f04-a58b-29ae207ef0ff"
      },
      "source": [
        "from sklearn.model_selection import train_test_split\n",
        "train_Xn, test_Xn, train_Y, test_Y = train_test_split(Xn, Y,train_size=0.7,test_size=0.3)\n",
        "print(\"Labels for training and testing data\")\n",
        "print(train_Y)\n",
        "print(test_Y)\n",
        "print(train_Xn)\n",
        "print(test_Xn)"
      ],
      "execution_count": 9,
      "outputs": [
        {
          "output_type": "stream",
          "name": "stdout",
          "text": [
            "Labels for training and testing data\n",
            "           SOC\n",
            "4288  0.336052\n",
            "38    1.000000\n",
            "3382  0.453399\n",
            "4166  0.362670\n",
            "1661  0.656681\n",
            "...        ...\n",
            "4826  0.284270\n",
            "5197  0.241029\n",
            "1106  0.714072\n",
            "3993  0.378046\n",
            "1797  0.630060\n",
            "\n",
            "[5040 rows x 1 columns]\n",
            "           SOC\n",
            "4373  0.334142\n",
            "1375  0.682868\n",
            "2645  0.539395\n",
            "569   0.756065\n",
            "6175  0.122542\n",
            "...        ...\n",
            "535   0.756065\n",
            "3248  0.462053\n",
            "3081  0.489071\n",
            "4524  0.320669\n",
            "1589  0.663780\n",
            "\n",
            "[2160 rows x 1 columns]\n",
            "             0         1\n",
            "4288  0.999940  0.917118\n",
            "38    0.381718  0.492624\n",
            "3382  0.166567  0.156710\n",
            "4166  0.333373  0.301939\n",
            "1661  0.333373  0.355369\n",
            "...        ...       ...\n",
            "4826  0.166627  0.133525\n",
            "5197  0.166627  0.129212\n",
            "1106  0.333373  0.369562\n",
            "3993  0.333373  0.305881\n",
            "1797  0.333433  0.348371\n",
            "\n",
            "[5040 rows x 2 columns]\n",
            "             0         1\n",
            "4373  0.166627  0.141039\n",
            "1375 -0.499880 -0.446910\n",
            "2645  0.166627  0.172485\n",
            "569   0.333458  0.384337\n",
            "6175  0.000060 -0.036821\n",
            "...        ...       ...\n",
            "535   0.333458  0.384244\n",
            "3248  0.333373  0.317337\n",
            "3081  0.000060  0.002463\n",
            "4524  0.333373  0.296513\n",
            "1589  0.166627  0.196881\n",
            "\n",
            "[2160 rows x 2 columns]\n"
          ]
        }
      ]
    },
    {
      "cell_type": "markdown",
      "metadata": {
        "id": "7C5FWwLpIMur"
      },
      "source": [
        "**Sigmoid Function**"
      ]
    },
    {
      "cell_type": "code",
      "metadata": {
        "id": "7LFEYzm_vmkd"
      },
      "source": [
        "# defining the Sigmoid Function\n",
        "def sigmoid (Xn):\n",
        "    return 1/(1 + np.exp(-Xn))\n",
        "\n",
        "# derivative of Sigmoid Function\n",
        "def derivatives_sigmoid(Xn):\n",
        "    return Xn * (1 - Xn)"
      ],
      "execution_count": 10,
      "outputs": []
    },
    {
      "cell_type": "markdown",
      "metadata": {
        "id": "9b6o37LqIRtI"
      },
      "source": [
        "**Initialization of Parameters**"
      ]
    },
    {
      "cell_type": "code",
      "metadata": {
        "id": "gnU0bLWXvrXc"
      },
      "source": [
        "#Weights\n",
        "w0 = 2*np.random.random((2, 1)) - 1 #for input   - 2 inputs, 1 outputs\n",
        "w1 = 2*np.random.random((1, 1)) - 1 #for layer 1 - 2 inputs, 1 outputs\n",
        "#learning rate\n",
        "n = 0.1\n",
        "epoch = 500\n",
        "hiddenlayer_neurons = 10\n",
        "hiddenlayer = 1"
      ],
      "execution_count": 11,
      "outputs": []
    },
    {
      "cell_type": "code",
      "metadata": {
        "id": "07tm2JgJvusH"
      },
      "source": [
        "errors = []"
      ],
      "execution_count": 12,
      "outputs": []
    },
    {
      "cell_type": "markdown",
      "metadata": {
        "id": "JD_lFLxSIp6B"
      },
      "source": [
        "**Feed-Forward Backpropagation**"
      ]
    },
    {
      "cell_type": "code",
      "metadata": {
        "id": "bt_dA_3_v0K0"
      },
      "source": [
        "for i in range (epoch):\n",
        "\n",
        "    #Feed forward network\n",
        "    layer0 = train_Xn\n",
        "    layer1 = sigmoid(np.dot(layer0, w0))\n",
        "    layer2 = sigmoid(np.dot(layer1, w1))\n",
        "\n",
        "    #Back propagation using gradient descent\n",
        "    layer2_error = train_Y - layer2\n",
        "    layer2_delta = layer2_error * derivatives_sigmoid(layer2)\n",
        "    layer1_error = layer2_delta.dot (w1.T)\n",
        "    layer1_delta = layer1_error * derivatives_sigmoid(layer1)\n",
        "    w1 += layer1.T.dot(layer2_delta) * n\n",
        "    w0 += layer0.T.dot(layer1_delta) * n\n",
        "    error = np.mean(np.abs(layer2_error))\n",
        "    errors.append(error)"
      ],
      "execution_count": 13,
      "outputs": []
    },
    {
      "cell_type": "markdown",
      "metadata": {
        "id": "MBVDAkkXJBn1"
      },
      "source": [
        "**Calculation of Accuracy of Training Model**"
      ]
    },
    {
      "cell_type": "code",
      "metadata": {
        "id": "qN1iFrFbv3Cv"
      },
      "source": [
        "accuracy_training = (1 - error) * 100"
      ],
      "execution_count": 14,
      "outputs": []
    },
    {
      "cell_type": "code",
      "metadata": {
        "colab": {
          "base_uri": "https://localhost:8080/"
        },
        "id": "SOXl7qYGv-X_",
        "outputId": "c5b4bb34-262c-4e08-e44f-fa1187782463"
      },
      "source": [
        "print (\"Training Accuracy of the model   \" + str (round(accuracy_training,2)) + \"%\")"
      ],
      "execution_count": 15,
      "outputs": [
        {
          "output_type": "stream",
          "name": "stdout",
          "text": [
            "Training Accuracy of the model   SOC    82.39\n",
            "dtype: float64%\n"
          ]
        }
      ]
    },
    {
      "cell_type": "markdown",
      "metadata": {
        "id": "M-NqEgTTJPns"
      },
      "source": [
        "**SOC Graph**"
      ]
    },
    {
      "cell_type": "code",
      "metadata": {
        "colab": {
          "base_uri": "https://localhost:8080/",
          "height": 279
        },
        "id": "ORG2E3xhv6qF",
        "outputId": "ee0b322c-861a-42c2-f6a3-b46d4b88e693"
      },
      "source": [
        "plt.plot(errors)\n",
        "plt.xlabel('Training')\n",
        "plt.ylabel('Error')\n",
        "plt.show()"
      ],
      "execution_count": 31,
      "outputs": [
        {
          "output_type": "display_data",
          "data": {
            "image/png": "[encoded data removed]",
            "text/plain": [
              "<Figure size 432x288 with 1 Axes>"
            ]
          },
          "metadata": {
            "needs_background": "light"
          }
        }
      ]
    },
    {
      "cell_type": "markdown",
      "metadata": {
        "id": "e5Au3E7zJVLl"
      },
      "source": [
        "**Mean Square Error Calculation**"
      ]
    },
    {
      "cell_type": "code",
      "metadata": {
        "colab": {
          "base_uri": "https://localhost:8080/"
        },
        "id": "jslloljawBlt",
        "outputId": "0df8fb73-a53c-4386-cbfb-1cb9d02b7429"
      },
      "source": [
        "MSE = np.mean((train_Y - layer2)**2) # Mean Squared Error\n",
        "print(MSE)\n",
        "errors.append(MSE)"
      ],
      "execution_count": 17,
      "outputs": [
        {
          "output_type": "stream",
          "name": "stdout",
          "text": [
            "SOC    0.046909\n",
            "dtype: float64\n"
          ]
        }
      ]
    },
    {
      "cell_type": "code",
      "metadata": {
        "colab": {
          "base_uri": "https://localhost:8080/"
        },
        "id": "ARngKW_9xr7Z",
        "outputId": "f7f44c7e-375e-4c85-c9fb-1e51fff3ab7a"
      },
      "source": [
        "from sklearn.metrics import mean_squared_error\n",
        "mean_squared_error(train_Y,layer2)"
      ],
      "execution_count": 18,
      "outputs": [
        {
          "output_type": "execute_result",
          "data": {
            "text/plain": [
              "0.046909225087493484"
            ]
          },
          "metadata": {},
          "execution_count": 18
        }
      ]
    },
    {
      "cell_type": "markdown",
      "metadata": {
        "id": "Nih_r-0EJfQe"
      },
      "source": [
        "**Absolute Error Calculation**"
      ]
    },
    {
      "cell_type": "code",
      "metadata": {
        "colab": {
          "base_uri": "https://localhost:8080/"
        },
        "id": "LwkDpdXxAsiz",
        "outputId": "338c8184-a20d-4fd7-cad7-d4b68c7b625a"
      },
      "source": [
        "print(error) # Absolute Error Value"
      ],
      "execution_count": 19,
      "outputs": [
        {
          "output_type": "stream",
          "name": "stdout",
          "text": [
            "SOC    0.176105\n",
            "dtype: float64\n"
          ]
        }
      ]
    },
    {
      "cell_type": "code",
      "metadata": {
        "colab": {
          "base_uri": "https://localhost:8080/",
          "height": 279
        },
        "id": "AyKWf4RfBA61",
        "outputId": "8bd38ce3-c43f-4d71-da1a-d23a02d4d378"
      },
      "source": [
        "plt.plot(errors)\n",
        "plt.xlabel('Training')\n",
        "plt.ylabel('MSE')# SOC \n",
        "plt.show()"
      ],
      "execution_count": 20,
      "outputs": [
        {
          "output_type": "display_data",
          "data": {
            "image/png": "[encoded data removed]",
            "text/plain": [
              "<Figure size 432x288 with 1 Axes>"
            ]
          },
          "metadata": {
            "needs_background": "light"
          }
        }
      ]
    },
    {
      "cell_type": "markdown",
      "metadata": {
        "id": "xoy1zVxRJpqM"
      },
      "source": [
        "**Linear Regression**"
      ]
    },
    {
      "cell_type": "code",
      "metadata": {
        "id": "rw8kv2tWG0zV"
      },
      "source": [
        "from sklearn.linear_model import LinearRegression\n",
        "linear_regressor = LinearRegression()\n",
        "linear_regressor.fit(train_Y,layer2)\n",
        "layer2n = linear_regressor.predict(train_Y)"
      ],
      "execution_count": 29,
      "outputs": []
    },
    {
      "cell_type": "code",
      "metadata": {
        "colab": {
          "base_uri": "https://localhost:8080/",
          "height": 265
        },
        "id": "bi1LFdX7G5Al",
        "outputId": "d3c10808-bd65-4508-b9fa-130ca9ce12aa"
      },
      "source": [
        "plt.scatter(train_Y,layer2n)\n",
        "plt.plot(train_Y, layer2n, color='red')\n",
        "plt.show()"
      ],
      "execution_count": 30,
      "outputs": [
        {
          "output_type": "display_data",
          "data": {
            "image/png": "[encoded data removed]",
            "text/plain": [
              "<Figure size 432x288 with 1 Axes>"
            ]
          },
          "metadata": {
            "needs_background": "light"
          }
        }
      ]
    },
    {
      "cell_type": "markdown",
      "metadata": {
        "id": "ze2k8a61Jxdz"
      },
      "source": [
        "**Testing Part**"
      ]
    },
    {
      "cell_type": "code",
      "metadata": {
        "id": "Ff2ZEL0zR1BP"
      },
      "source": [
        "#Testing\n",
        "layer0 = test_Xn\n",
        "layer1 = sigmoid(np.dot(layer0, w0))\n",
        "layer2t = sigmoid(np.dot(layer1, w1))\n",
        "layer2_error = test_Y - layer2t\n",
        "error = np.mean(np.abs(layer2_error))\n",
        "errors.append(error)"
      ],
      "execution_count": 21,
      "outputs": []
    },
    {
      "cell_type": "markdown",
      "metadata": {
        "id": "4jprAAzjJ4Yz"
      },
      "source": [
        "**Testing Accuracy Calculation**"
      ]
    },
    {
      "cell_type": "code",
      "metadata": {
        "id": "yme5DifrR9Ed"
      },
      "source": [
        "accuracy_testing = (1 - error) * 100"
      ],
      "execution_count": 22,
      "outputs": []
    },
    {
      "cell_type": "code",
      "metadata": {
        "colab": {
          "base_uri": "https://localhost:8080/"
        },
        "id": "OV9rBvnuSD2U",
        "outputId": "aedfca1b-40d6-4b55-9930-8a7faee797f2"
      },
      "source": [
        "print (\"Testing Accuracy of the model   \" + str (round(accuracy_testing,2)) + \"%\")"
      ],
      "execution_count": 23,
      "outputs": [
        {
          "output_type": "stream",
          "name": "stdout",
          "text": [
            "Testing Accuracy of the model   SOC    82.47\n",
            "dtype: float64%\n"
          ]
        }
      ]
    },
    {
      "cell_type": "markdown",
      "metadata": {
        "id": "nWLFWj5tKEyb"
      },
      "source": [
        "**SOC error Graph**"
      ]
    },
    {
      "cell_type": "code",
      "metadata": {
        "colab": {
          "base_uri": "https://localhost:8080/",
          "height": 279
        },
        "id": "clKeWh_AS7dg",
        "outputId": "73a09cff-7e30-4588-9083-ec9939a3a5d2"
      },
      "source": [
        "plt.plot(errors)\n",
        "plt.xlabel('Testing')\n",
        "plt.ylabel('Error')\n",
        "plt.show()"
      ],
      "execution_count": 24,
      "outputs": [
        {
          "output_type": "display_data",
          "data": {
            "image/png": "[encoded data removed]",
            "text/plain": [
              "<Figure size 432x288 with 1 Axes>"
            ]
          },
          "metadata": {
            "needs_background": "light"
          }
        }
      ]
    },
    {
      "cell_type": "markdown",
      "metadata": {
        "id": "ftDBz4veKLT7"
      },
      "source": [
        "**Mean Square Error**"
      ]
    },
    {
      "cell_type": "code",
      "metadata": {
        "colab": {
          "base_uri": "https://localhost:8080/"
        },
        "id": "hMgcVuPnTQkp",
        "outputId": "623c58db-8673-465f-dbe3-ad8d10944142"
      },
      "source": [
        "MSE_T = np.mean((test_Y - layer2t)**2) # Mean Squared Error\n",
        "print(MSE_T)\n",
        "errors.append(MSE_T)"
      ],
      "execution_count": 25,
      "outputs": [
        {
          "output_type": "stream",
          "name": "stdout",
          "text": [
            "SOC    0.045835\n",
            "dtype: float64\n"
          ]
        }
      ]
    },
    {
      "cell_type": "code",
      "metadata": {
        "colab": {
          "base_uri": "https://localhost:8080/"
        },
        "id": "oEh_WtSlTXOt",
        "outputId": "d0bcfa9c-5f08-4e99-b337-9ad0e166fea9"
      },
      "source": [
        "from sklearn.metrics import mean_squared_error\n",
        "mean_squared_error(test_Y,layer2t)"
      ],
      "execution_count": 26,
      "outputs": [
        {
          "output_type": "execute_result",
          "data": {
            "text/plain": [
              "0.04583503805425129"
            ]
          },
          "metadata": {},
          "execution_count": 26
        }
      ]
    },
    {
      "cell_type": "markdown",
      "metadata": {
        "id": "Pwi0wvySKQbG"
      },
      "source": [
        "**Mean Absolute Error**"
      ]
    },
    {
      "cell_type": "code",
      "metadata": {
        "colab": {
          "base_uri": "https://localhost:8080/"
        },
        "id": "-GnNCO-5Tq65",
        "outputId": "8ff980ff-f35e-4c0a-cda9-1dd030a10da0"
      },
      "source": [
        "print(error) # Absolute Error Value"
      ],
      "execution_count": 27,
      "outputs": [
        {
          "output_type": "stream",
          "name": "stdout",
          "text": [
            "SOC    0.175336\n",
            "dtype: float64\n"
          ]
        }
      ]
    },
    {
      "cell_type": "code",
      "metadata": {
        "colab": {
          "base_uri": "https://localhost:8080/",
          "height": 279
        },
        "id": "rXQEZLs1TxRR",
        "outputId": "0f2c6f90-12d1-44ef-abec-044f48448bb0"
      },
      "source": [
        "plt.plot(errors)\n",
        "plt.xlabel('Testing')\n",
        "plt.ylabel('MSE_T')# SOC \n",
        "plt.show()"
      ],
      "execution_count": 28,
      "outputs": [
        {
          "output_type": "display_data",
          "data": {
            "image/png": "[encoded data removed]",
            "text/plain": [
              "<Figure size 432x288 with 1 Axes>"
            ]
          },
          "metadata": {
            "needs_background": "light"
          }
        }
      ]
    }
  ]
}